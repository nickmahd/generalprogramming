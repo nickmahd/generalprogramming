{
 "cells": [
  {
   "cell_type": "markdown",
   "metadata": {},
   "source": [
    "# A little experiment with Reddit and statsmodels\n",
    "---"
   ]
  },
  {
   "cell_type": "markdown",
   "metadata": {},
   "source": [
    "The other notebooks in this folder are a bit cluttered, so this is meant to streamline my thinking process a bit. Hey Jen 👋\n",
    "\n",
    "###### Note: I used statsmodels instead of sklearn here, since it's not a particularly big dataset, only about 250k rows"
   ]
  },
  {
   "cell_type": "markdown",
   "metadata": {},
   "source": [
    "## What's going on here?\n",
    "---\n",
    "The data scraper is pretty messy and I haven't looked at it in about half a year, but long story short it collects post metadata pseudo-asynchronously (true async may or may not be better and would definitely take a lot of time to implement) at certain intervals, and logs them at each interval along with a timestamp. These values are (see ../src/config.py):\n",
    "\n",
    "```\n",
    "Post attributes: \n",
    "['id',\n",
    "'num_comments',\n",
    "'title',\n",
    "'selftext',\n",
    "'author',\n",
    "'created_utc',\n",
    "'score',\n",
    "'upvote_ratio',\n",
    "'edited',\n",
    "\n",
    "'stickied',\n",
    "'locked']\n",
    "\n",
    "Subreddit attributes:\n",
    "['active_user_count',\n",
    "'subscribers']\n",
    "\n",
    "Other attributes:\n",
    "\n",
    "['time_now',        # Current time\n",
    "'pickup_no',        # which iteration of the scraper?\n",
    "'post_pickup']      # when was this post first found?\n",
    "```\n",
    "\n",
    "So now we're going to do some data regression. First, the setup:"
   ]
  },
  {
   "cell_type": "code",
   "execution_count": 58,
   "metadata": {},
   "outputs": [],
   "source": [
    "%matplotlib inline\n",
    "import pandas as pd\n",
    "import numpy as np\n",
    "import matplotlib.pyplot as plt\n",
    "import statsmodels.formula.api as sm\n",
    "\n",
    "import sys, os\n",
    "sys.path.append(os.path.abspath('../src'))\n",
    "import config  # Big config file with preset values\n",
    "\n",
    "df = pd.read_csv(\"../datafile_final.csv\")  # Our csv file is now a dataframe\n",
    "pickups = config.POST_PICKUPS\n",
    "\n",
    "\n",
    "def score(row):  # Gets the net score of the post\n",
    "    return row[\"ups\"]-row[\"downs\"]\n",
    "\n",
    "df['score'] = df.apply(score, axis=1)  # Adds score as a new row\n",
    "\n",
    "\n",
    "# How long have we waited to get this data?\n",
    "def pickup_time(row):\n",
    "    return row['time_now'] - row['post_pickup']\n",
    "\n",
    "df['pickup_time'] = df.apply(pickup_time, axis=1)\n",
    "\n",
    "\n",
    "# Same thing for title length - makes things easier\n",
    "def title_length(row):\n",
    "    return len(row['title'])\n",
    "\n",
    "df['post_length']=df.apply(title_length, axis=1)"
   ]
  },
  {
   "cell_type": "markdown",
   "metadata": {},
   "source": [
    "And now our data is in a nice format."
   ]
  },
  {
   "cell_type": "code",
   "execution_count": 60,
   "metadata": {},
   "outputs": [
    {
     "data": {
      "text/html": [
       "<div>\n",
       "<style scoped>\n",
       "    .dataframe tbody tr th:only-of-type {\n",
       "        vertical-align: middle;\n",
       "    }\n",
       "\n",
       "    .dataframe tbody tr th {\n",
       "        vertical-align: top;\n",
       "    }\n",
       "\n",
       "    .dataframe thead th {\n",
       "        text-align: right;\n",
       "    }\n",
       "</style>\n",
       "<table border=\"1\" class=\"dataframe\">\n",
       "  <thead>\n",
       "    <tr style=\"text-align: right;\">\n",
       "      <th></th>\n",
       "      <th>id</th>\n",
       "      <th>num_comments</th>\n",
       "      <th>title</th>\n",
       "      <th>author</th>\n",
       "      <th>created_utc</th>\n",
       "      <th>ups</th>\n",
       "      <th>downs</th>\n",
       "      <th>edited</th>\n",
       "      <th>stickied</th>\n",
       "      <th>locked</th>\n",
       "      <th>active_user_count</th>\n",
       "      <th>subscribers</th>\n",
       "      <th>time_now</th>\n",
       "      <th>pickup_no</th>\n",
       "      <th>post_pickup</th>\n",
       "      <th>score</th>\n",
       "      <th>pickup_time</th>\n",
       "      <th>post_length</th>\n",
       "      <th>created_time</th>\n",
       "    </tr>\n",
       "  </thead>\n",
       "  <tbody>\n",
       "    <tr>\n",
       "      <th>0</th>\n",
       "      <td>audvaw</td>\n",
       "      <td>0</td>\n",
       "      <td>What is the worst thing you ever bought?</td>\n",
       "      <td>mozammel1</td>\n",
       "      <td>1.551050e+09</td>\n",
       "      <td>1</td>\n",
       "      <td>0</td>\n",
       "      <td>False</td>\n",
       "      <td>False</td>\n",
       "      <td>False</td>\n",
       "      <td>207256</td>\n",
       "      <td>21665422</td>\n",
       "      <td>1.551050e+09</td>\n",
       "      <td>0</td>\n",
       "      <td>1.551050e+09</td>\n",
       "      <td>1</td>\n",
       "      <td>1.192093e-06</td>\n",
       "      <td>40</td>\n",
       "      <td>23</td>\n",
       "    </tr>\n",
       "    <tr>\n",
       "      <th>1</th>\n",
       "      <td>audvam</td>\n",
       "      <td>0</td>\n",
       "      <td>Which is a favourite song of yours growing up?</td>\n",
       "      <td>hitaccount</td>\n",
       "      <td>1.551050e+09</td>\n",
       "      <td>1</td>\n",
       "      <td>0</td>\n",
       "      <td>False</td>\n",
       "      <td>False</td>\n",
       "      <td>False</td>\n",
       "      <td>207256</td>\n",
       "      <td>21665422</td>\n",
       "      <td>1.551050e+09</td>\n",
       "      <td>0</td>\n",
       "      <td>1.551050e+09</td>\n",
       "      <td>1</td>\n",
       "      <td>4.768372e-07</td>\n",
       "      <td>46</td>\n",
       "      <td>23</td>\n",
       "    </tr>\n",
       "    <tr>\n",
       "      <th>2</th>\n",
       "      <td>audv9a</td>\n",
       "      <td>0</td>\n",
       "      <td>What subreddit would be good for promoting fre...</td>\n",
       "      <td>HorseReader</td>\n",
       "      <td>1.551050e+09</td>\n",
       "      <td>1</td>\n",
       "      <td>0</td>\n",
       "      <td>False</td>\n",
       "      <td>False</td>\n",
       "      <td>False</td>\n",
       "      <td>207256</td>\n",
       "      <td>21665422</td>\n",
       "      <td>1.551050e+09</td>\n",
       "      <td>0</td>\n",
       "      <td>1.551050e+09</td>\n",
       "      <td>1</td>\n",
       "      <td>1.192093e-06</td>\n",
       "      <td>59</td>\n",
       "      <td>23</td>\n",
       "    </tr>\n",
       "    <tr>\n",
       "      <th>3</th>\n",
       "      <td>audv66</td>\n",
       "      <td>2</td>\n",
       "      <td>What is better Pepsi or Coca-cola?</td>\n",
       "      <td>XxBarnyardManxX</td>\n",
       "      <td>1.551050e+09</td>\n",
       "      <td>1</td>\n",
       "      <td>0</td>\n",
       "      <td>False</td>\n",
       "      <td>False</td>\n",
       "      <td>False</td>\n",
       "      <td>207256</td>\n",
       "      <td>21665422</td>\n",
       "      <td>1.551050e+09</td>\n",
       "      <td>0</td>\n",
       "      <td>1.551050e+09</td>\n",
       "      <td>1</td>\n",
       "      <td>9.536743e-07</td>\n",
       "      <td>34</td>\n",
       "      <td>23</td>\n",
       "    </tr>\n",
       "    <tr>\n",
       "      <th>4</th>\n",
       "      <td>audv65</td>\n",
       "      <td>0</td>\n",
       "      <td>Reddit, what's your side-hustle?</td>\n",
       "      <td>copypasteme</td>\n",
       "      <td>1.551050e+09</td>\n",
       "      <td>1</td>\n",
       "      <td>0</td>\n",
       "      <td>False</td>\n",
       "      <td>False</td>\n",
       "      <td>False</td>\n",
       "      <td>207256</td>\n",
       "      <td>21665422</td>\n",
       "      <td>1.551050e+09</td>\n",
       "      <td>0</td>\n",
       "      <td>1.551050e+09</td>\n",
       "      <td>1</td>\n",
       "      <td>7.152557e-07</td>\n",
       "      <td>32</td>\n",
       "      <td>23</td>\n",
       "    </tr>\n",
       "  </tbody>\n",
       "</table>\n",
       "</div>"
      ],
      "text/plain": [
       "       id  num_comments                                              title  \\\n",
       "0  audvaw             0           What is the worst thing you ever bought?   \n",
       "1  audvam             0     Which is a favourite song of yours growing up?   \n",
       "2  audv9a             0  What subreddit would be good for promoting fre...   \n",
       "3  audv66             2                 What is better Pepsi or Coca-cola?   \n",
       "4  audv65             0                   Reddit, what's your side-hustle?   \n",
       "\n",
       "            author   created_utc  ups  downs edited  stickied  locked  \\\n",
       "0        mozammel1  1.551050e+09    1      0  False     False   False   \n",
       "1       hitaccount  1.551050e+09    1      0  False     False   False   \n",
       "2      HorseReader  1.551050e+09    1      0  False     False   False   \n",
       "3  XxBarnyardManxX  1.551050e+09    1      0  False     False   False   \n",
       "4      copypasteme  1.551050e+09    1      0  False     False   False   \n",
       "\n",
       "   active_user_count  subscribers      time_now  pickup_no   post_pickup  \\\n",
       "0             207256     21665422  1.551050e+09          0  1.551050e+09   \n",
       "1             207256     21665422  1.551050e+09          0  1.551050e+09   \n",
       "2             207256     21665422  1.551050e+09          0  1.551050e+09   \n",
       "3             207256     21665422  1.551050e+09          0  1.551050e+09   \n",
       "4             207256     21665422  1.551050e+09          0  1.551050e+09   \n",
       "\n",
       "   score   pickup_time  post_length  created_time  \n",
       "0      1  1.192093e-06           40            23  \n",
       "1      1  4.768372e-07           46            23  \n",
       "2      1  1.192093e-06           59            23  \n",
       "3      1  9.536743e-07           34            23  \n",
       "4      1  7.152557e-07           32            23  "
      ]
     },
     "execution_count": 60,
     "metadata": {},
     "output_type": "execute_result"
    }
   ],
   "source": [
    "df.head()"
   ]
  },
  {
   "cell_type": "markdown",
   "metadata": {},
   "source": [
    "What now? Well, let's do some basic regression with this data.\n",
    "\n",
    "For example, let's look at the expected change in value between pickups 10 and 15 (waited about 2 days vs 9 days respectively). Of course, posts that haven't been seen by anyone (low # of upvotes) are gonna skew our data, so let's remove those too:"
   ]
  },
  {
   "cell_type": "code",
   "execution_count": 53,
   "metadata": {},
   "outputs": [
    {
     "data": {
      "text/plain": [
       "Intercept    516.465509\n",
       "score_x        1.108019\n",
       "dtype: float64"
      ]
     },
     "execution_count": 53,
     "metadata": {},
     "output_type": "execute_result"
    }
   ],
   "source": [
    "pickup1 = 10\n",
    "pickup2 = 15\n",
    "\n",
    "df1 = df.loc[df['pickup_no'] == pickup1][['id','score']]\n",
    "df2 = df.loc[df['pickup_no'] == pickup2][['id','score']]\n",
    "df3 = df1.merge(df2,on='id')\n",
    "\n",
    "df3.drop(df3[df3['score_x']<500].index, inplace=True)\n",
    "\n",
    "result = sm.ols(formula=\"score_y ~ score_x\", data=df3).fit()\n",
    "result.params"
   ]
  },
  {
   "cell_type": "markdown",
   "metadata": {},
   "source": [
    "And there we go! Let's visualize this a little bit:"
   ]
  },
  {
   "cell_type": "code",
   "execution_count": 54,
   "metadata": {},
   "outputs": [
    {
     "data": {
      "text/plain": [
       "[<matplotlib.lines.Line2D at 0x125a7fe10>]"
      ]
     },
     "execution_count": 54,
     "metadata": {},
     "output_type": "execute_result"
    },
    {
     "data": {
      "image/png": "[encoded data removed]",
      "text/plain": [
       "<Figure size 432x288 with 1 Axes>"
      ]
     },
     "metadata": {
      "needs_background": "light"
     },
     "output_type": "display_data"
    }
   ],
   "source": [
    "ax=df3.plot(x='score_x', y='score_y',kind='scatter')\n",
    "linerange = np.arange(1, df3['score_x'].max())\n",
    "ax.plot(linerange, result.params.Intercept + result.params.score_x * linerange)"
   ]
  },
  {
   "cell_type": "markdown",
   "metadata": {},
   "source": [
    "This tells us that posts trend generally upwards by 12% as time goes on. This isn't really a good approximation for the success of a post, though, since there's so much noise near the bottom. If over 500 upvotes is success, only 1 out of ~1250 posts succeeds. So this doesn't really help us.\n",
    "\n",
    "Let's try to fix that."
   ]
  },
  {
   "cell_type": "markdown",
   "metadata": {},
   "source": [
    "## Finding posts that will succeed (not really regression)\n",
    "---\n",
    "Timezones are weird. Most of Reddit's users live in America though; the exact timezone won't effect our regression, since we use UNIX timestamps, but the fact that the majority is concentrated in a spot should skew it enough for us.\n",
    "\n",
    "We should expect to see more than just 1/2 peaks in score, though, accounting for Europe, etc — and they might be in a weird spot."
   ]
  },
  {
   "cell_type": "code",
   "execution_count": 59,
   "metadata": {},
   "outputs": [
    {
     "data": {
      "text/plain": [
       "<matplotlib.axes._subplots.AxesSubplot at 0x12bd8bbd0>"
      ]
     },
     "execution_count": 59,
     "metadata": {},
     "output_type": "execute_result"
    },
    {
     "data": {
      "image/png": "[encoded data removed]",
      "text/plain": [
       "<Figure size 432x288 with 1 Axes>"
      ]
     },
     "metadata": {
      "needs_background": "light"
     },
     "output_type": "display_data"
    }
   ],
   "source": [
    "from datetime import datetime\n",
    "\n",
    "def time(row):\n",
    "    return datetime.utcfromtimestamp(row['created_utc']).hour\n",
    "df['created_time']=df.apply(time, axis=1)\n",
    "\n",
    "# Get the last seen values of each post\n",
    "df4=df.sort_values('pickup_no', ascending=False).drop_duplicates(subset=['id']).sort_index().reset_index(drop=True)\n",
    "df4.drop(df4[df4['score']<500].index)['created_time'].plot.hist(bins=24)"
   ]
  },
  {
   "cell_type": "markdown",
   "metadata": {},
   "source": [
    "Now this is useful! We can see that peak frequency for front-page posts is around 6-7 am PST, with another peak at around 9. This makes sense — people are leaving for work, and they're checking Reddit as they get up in the morning.\n",
    "\n",
    "One more example - post title length. Do people lose interest when looking at a long title?"
   ]
  },
  {
   "cell_type": "code",
   "execution_count": 71,
   "metadata": {},
   "outputs": [
    {
     "data": {
      "text/plain": [
       "<matplotlib.axes._subplots.AxesSubplot at 0x12d0ba310>"
      ]
     },
     "execution_count": 71,
     "metadata": {},
     "output_type": "execute_result"
    },
    {
     "data": {
      "image/png": "[encoded data removed]",
      "text/plain": [
       "<Figure size 432x288 with 1 Axes>"
      ]
     },
     "metadata": {
      "needs_background": "light"
     },
     "output_type": "display_data"
    }
   ],
   "source": [
    "df4['post_length'].plot.hist(bins=25)"
   ]
  },
  {
   "cell_type": "code",
   "execution_count": 74,
   "metadata": {
    "scrolled": true
   },
   "outputs": [
    {
     "data": {
      "text/plain": [
       "<matplotlib.axes._subplots.AxesSubplot at 0x12d0da2d0>"
      ]
     },
     "execution_count": 74,
     "metadata": {},
     "output_type": "execute_result"
    },
    {
     "data": {
      "image/png": "[encoded data removed]",
      "text/plain": [
       "<Figure size 432x288 with 1 Axes>"
      ]
     },
     "metadata": {
      "needs_background": "light"
     },
     "output_type": "display_data"
    }
   ],
   "source": [
    "df4.drop(df4[df4['score']<150].index)['post_length'].plot.hist(bins=25)"
   ]
  },
  {
   "cell_type": "markdown",
   "metadata": {},
   "source": [
    "Apparently, not really. We can't do much with this."
   ]
  },
  {
   "cell_type": "markdown",
   "metadata": {},
   "source": [
    "## What next?\n",
    "---\n",
    "\n",
    "- Image analysis\n",
    "- Multivariable analysis\n",
    "- Real-world testing\n",
    "- More analysis\n",
    "    - Using different aspects of metadata\n",
    "    - Pitting different variables\n",
    "- Using sklearn, etc: more powerful?\n",
    "- More data!\n",
    "- Different subreddits\n",
    "- User variables\n",
    "- and more"
   ]
  },
  {
   "cell_type": "code",
   "execution_count": null,
   "metadata": {},
   "outputs": [],
   "source": []
  }
 ],
 "metadata": {
  "kernelspec": {
   "display_name": "Python 3",
   "language": "python",
   "name": "python3"
  },
  "language_info": {
   "codemirror_mode": {
    "name": "ipython",
    "version": 3
   },
   "file_extension": ".py",
   "mimetype": "text/x-python",
   "name": "python",
   "nbconvert_exporter": "python",
   "pygments_lexer": "ipython3",
   "version": "3.7.4"
  }
 },
 "nbformat": 4,
 "nbformat_minor": 2
}
